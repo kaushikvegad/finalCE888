{
 "cells": [
  {
   "cell_type": "code",
   "execution_count": 1,
   "metadata": {},
   "outputs": [
    {
     "ename": "FileExistsError",
     "evalue": "[WinError 183] Cannot create a file when that file already exists: 'C://Users//Deep.ai//Downloads//1626498001264_TAA_JULY_114//TAA_JULY_114\\\\CT_COVID//CT_COVID//covid-10.png' -> 'C://Users//Deep.ai//Downloads//1626498001264_TAA_JULY_114//TAA_JULY_114\\\\CT_COVID//CT_COVID//covid-2.png'",
     "output_type": "error",
     "traceback": [
      "\u001b[1;31m---------------------------------------------------------------------------\u001b[0m",
      "\u001b[1;31mFileExistsError\u001b[0m                           Traceback (most recent call last)",
      "\u001b[1;32m<ipython-input-1-56c8ee85a2e7>\u001b[0m in \u001b[0;36m<module>\u001b[1;34m\u001b[0m\n\u001b[0;32m      8\u001b[0m     \u001b[1;31m# rename() function will\u001b[0m\u001b[1;33m\u001b[0m\u001b[1;33m\u001b[0m\u001b[1;33m\u001b[0m\u001b[0m\n\u001b[0;32m      9\u001b[0m     \u001b[1;31m# rename all the files\u001b[0m\u001b[1;33m\u001b[0m\u001b[1;33m\u001b[0m\u001b[1;33m\u001b[0m\u001b[0m\n\u001b[1;32m---> 10\u001b[1;33m     \u001b[0mos\u001b[0m\u001b[1;33m.\u001b[0m\u001b[0mrename\u001b[0m\u001b[1;33m(\u001b[0m\u001b[0msrc\u001b[0m\u001b[1;33m,\u001b[0m \u001b[0mdst\u001b[0m\u001b[1;33m)\u001b[0m\u001b[1;33m\u001b[0m\u001b[1;33m\u001b[0m\u001b[0m\n\u001b[0m\u001b[0;32m     11\u001b[0m \u001b[0mprint\u001b[0m\u001b[1;33m(\u001b[0m\u001b[1;34m\"Covid Positive cases: \"\u001b[0m\u001b[1;33m,\u001b[0m \u001b[0mcount\u001b[0m\u001b[1;33m)\u001b[0m\u001b[1;33m\u001b[0m\u001b[1;33m\u001b[0m\u001b[0m\n\u001b[0;32m     12\u001b[0m \u001b[1;33m\u001b[0m\u001b[0m\n",
      "\u001b[1;31mFileExistsError\u001b[0m: [WinError 183] Cannot create a file when that file already exists: 'C://Users//Deep.ai//Downloads//1626498001264_TAA_JULY_114//TAA_JULY_114\\\\CT_COVID//CT_COVID//covid-10.png' -> 'C://Users//Deep.ai//Downloads//1626498001264_TAA_JULY_114//TAA_JULY_114\\\\CT_COVID//CT_COVID//covid-2.png'"
     ]
    }
   ],
   "source": [
    "import os\n",
    "path='C://Users//Deep.ai//Downloads//1626498001264_TAA_JULY_114//TAA_JULY_114\\CT_COVID//CT_COVID//'\n",
    "for count, filename in enumerate(os.listdir(path)): \n",
    "    dst =\"covid-\" + str(count) + \".png\"\n",
    "    src =path+ filename \n",
    "    dst =path+ dst \n",
    "        \n",
    "    # rename() function will \n",
    "    # rename all the files \n",
    "    os.rename(src, dst)\n",
    "print(\"Covid Positive cases: \", count)\n",
    "\n",
    "path='C://Users//Deep.ai//Downloads//1626498001264_TAA_JULY_114//TAA_JULY_114//CT_NonCOVID//CT_NonCOVID//'\n",
    "for count, filename in enumerate(os.listdir(path)): \n",
    "    dst =\"noncovid-\" + str(count) + \".png\"\n",
    "    src =path+ filename \n",
    "    dst =path+ dst \n",
    "        \n",
    "    # rename() function will \n",
    "    # rename all the files \n",
    "    os.rename(src, dst)\n",
    "\n",
    "print(\"Covid Negative cases: \", count)"
   ]
  },
  {
   "cell_type": "code",
   "execution_count": 2,
   "metadata": {},
   "outputs": [],
   "source": [
    "base_dir = 'C://Users//Deep.ai//Downloads//1626498001264_TAA_JULY_114//TAA_JULY_114//'\n",
    "if not os.path.exists(base_dir): os.mkdir(base_dir)"
   ]
  },
  {
   "cell_type": "code",
   "execution_count": 3,
   "metadata": {},
   "outputs": [],
   "source": [
    "train_dir = os.path.join(base_dir, 'train')\n",
    "if not os.path.exists(train_dir): os.mkdir(train_dir)\n",
    "\n",
    "validation_dir = os.path.join(base_dir, 'validation')\n",
    "if not os.path.exists(validation_dir):os.mkdir(validation_dir)\n",
    "\n",
    "test_dir = os.path.join(base_dir, 'test')\n",
    "if not os.path.exists(test_dir):os.mkdir(test_dir)"
   ]
  },
  {
   "cell_type": "code",
   "execution_count": 4,
   "metadata": {},
   "outputs": [],
   "source": [
    "original_dataset_dir_covid = 'C://Users//Deep.ai//Downloads//1626498001264_TAA_JULY_114//TAA_JULY_114\\CT_COVID//CT_COVID//'\n",
    "original_dataset_dir_non_covid = 'C://Users//Deep.ai//Downloads//1626498001264_TAA_JULY_114//TAA_JULY_114//CT_NonCOVID//CT_NonCOVID//'\n",
    "\n",
    "import shutil\n",
    "fnames = ['covid-{}.png'.format(i) for i in range(250)]\n",
    "for fname in fnames:\n",
    "    src = os.path.join(original_dataset_dir_covid, fname)\n",
    "    dst = os.path.join(train_dir, fname)\n",
    "    #print(src,dst)\n",
    "    shutil.copyfile(src, dst)\n",
    "    \n",
    "fnames = ['covid-{}.png'.format(i) for i in range(250, 300)]\n",
    "for fname in fnames:\n",
    "    src = os.path.join(original_dataset_dir_covid, fname)\n",
    "    dst = os.path.join(validation_dir, fname)\n",
    "    shutil.copyfile(src, dst)\n",
    "\n",
    "fnames = ['covid-{}.png'.format(i) for i in range(300, 348)]\n",
    "for fname in fnames:\n",
    "    src = os.path.join(original_dataset_dir_covid, fname)\n",
    "    dst = os.path.join(test_dir, fname)\n",
    "    shutil.copyfile(src, dst)"
   ]
  },
  {
   "cell_type": "code",
   "execution_count": 5,
   "metadata": {},
   "outputs": [],
   "source": [
    "fnames = ['noncovid-{}.png'.format(i) for i in range(250)]\n",
    "for fname in fnames:\n",
    "    src = os.path.join(original_dataset_dir_non_covid, fname)\n",
    "    dst = os.path.join(train_dir, fname)\n",
    "    shutil.copyfile(src, dst)\n",
    "\n",
    "fnames = ['noncovid-{}.png'.format(i) for i in range(250, 300)]\n",
    "for fname in fnames:\n",
    "    src = os.path.join(original_dataset_dir_non_covid, fname)\n",
    "    dst = os.path.join(validation_dir, fname)\n",
    "    shutil.copyfile(src, dst)\n",
    "\n",
    "fnames = ['noncovid-{}.png'.format(i) for i in range(300, 348)]\n",
    "for fname in fnames:\n",
    "    src = os.path.join(original_dataset_dir_non_covid, fname)\n",
    "    dst = os.path.join(test_dir, fname)\n",
    "    shutil.copyfile(src, dst)"
   ]
  },
  {
   "cell_type": "code",
   "execution_count": 6,
   "metadata": {},
   "outputs": [],
   "source": [
    "import cv2\n",
    "import numpy as np\n",
    "from random import shuffle\n",
    "\n",
    "IMG_SIZE = 224\n",
    "LR = 1e-4"
   ]
  },
  {
   "cell_type": "code",
   "execution_count": 7,
   "metadata": {},
   "outputs": [],
   "source": [
    "def label_img(img):\n",
    "    word_label = img.split('-')[0]\n",
    "    if word_label == 'covid': return 1\n",
    "    elif word_label == 'noncovid': return 0"
   ]
  },
  {
   "cell_type": "code",
   "execution_count": 8,
   "metadata": {},
   "outputs": [],
   "source": [
    "def createDataSplitSet(datapath):\n",
    "    X=[]\n",
    "    y=[]\n",
    "\n",
    "    for img in os.listdir(datapath):\n",
    "        label = label_img(img)\n",
    "        path = os.path.join(datapath, img)\n",
    "        image = cv2.resize(cv2.imread(path), (IMG_SIZE, IMG_SIZE))\n",
    "        image = cv2.normalize(image, None, alpha=0, beta=1, norm_type=cv2.NORM_MINMAX, dtype=cv2.CV_32F)\n",
    "\n",
    "        X.append(np.array(image))\n",
    "        y.append(label)\n",
    "\n",
    "    return np.array(X), np.array(y)"
   ]
  },
  {
   "cell_type": "code",
   "execution_count": 9,
   "metadata": {},
   "outputs": [],
   "source": [
    "train_X, train_y = createDataSplitSet(train_dir)\n",
    "val_X, val_y = createDataSplitSet(validation_dir)\n",
    "test_X, test_y = createDataSplitSet(test_dir)"
   ]
  },
  {
   "cell_type": "code",
   "execution_count": 10,
   "metadata": {},
   "outputs": [],
   "source": [
    "from tensorflow.keras.applications.vgg19 import VGG19\n",
    "#from tensorflow.keras.applications import VGG16\n",
    "from tensorflow.keras.layers import Dense, Input\n",
    "from tensorflow.keras import Model\n",
    "\n",
    "img_input = Input(shape=(IMG_SIZE, IMG_SIZE, 3))"
   ]
  },
  {
   "cell_type": "code",
   "execution_count": 11,
   "metadata": {},
   "outputs": [
    {
     "name": "stdout",
     "output_type": "stream",
     "text": [
      "Model: \"vgg19\"\n",
      "_________________________________________________________________\n",
      "Layer (type)                 Output Shape              Param #   \n",
      "=================================================================\n",
      "input_1 (InputLayer)         [(None, 224, 224, 3)]     0         \n",
      "_________________________________________________________________\n",
      "block1_conv1 (Conv2D)        (None, 224, 224, 64)      1792      \n",
      "_________________________________________________________________\n",
      "block1_conv2 (Conv2D)        (None, 224, 224, 64)      36928     \n",
      "_________________________________________________________________\n",
      "block1_pool (MaxPooling2D)   (None, 112, 112, 64)      0         \n",
      "_________________________________________________________________\n",
      "block2_conv1 (Conv2D)        (None, 112, 112, 128)     73856     \n",
      "_________________________________________________________________\n",
      "block2_conv2 (Conv2D)        (None, 112, 112, 128)     147584    \n",
      "_________________________________________________________________\n",
      "block2_pool (MaxPooling2D)   (None, 56, 56, 128)       0         \n",
      "_________________________________________________________________\n",
      "block3_conv1 (Conv2D)        (None, 56, 56, 256)       295168    \n",
      "_________________________________________________________________\n",
      "block3_conv2 (Conv2D)        (None, 56, 56, 256)       590080    \n",
      "_________________________________________________________________\n",
      "block3_conv3 (Conv2D)        (None, 56, 56, 256)       590080    \n",
      "_________________________________________________________________\n",
      "block3_conv4 (Conv2D)        (None, 56, 56, 256)       590080    \n",
      "_________________________________________________________________\n",
      "block3_pool (MaxPooling2D)   (None, 28, 28, 256)       0         \n",
      "_________________________________________________________________\n",
      "block4_conv1 (Conv2D)        (None, 28, 28, 512)       1180160   \n",
      "_________________________________________________________________\n",
      "block4_conv2 (Conv2D)        (None, 28, 28, 512)       2359808   \n",
      "_________________________________________________________________\n",
      "block4_conv3 (Conv2D)        (None, 28, 28, 512)       2359808   \n",
      "_________________________________________________________________\n",
      "block4_conv4 (Conv2D)        (None, 28, 28, 512)       2359808   \n",
      "_________________________________________________________________\n",
      "block4_pool (MaxPooling2D)   (None, 14, 14, 512)       0         \n",
      "_________________________________________________________________\n",
      "block5_conv1 (Conv2D)        (None, 14, 14, 512)       2359808   \n",
      "_________________________________________________________________\n",
      "block5_conv2 (Conv2D)        (None, 14, 14, 512)       2359808   \n",
      "_________________________________________________________________\n",
      "block5_conv3 (Conv2D)        (None, 14, 14, 512)       2359808   \n",
      "_________________________________________________________________\n",
      "block5_conv4 (Conv2D)        (None, 14, 14, 512)       2359808   \n",
      "_________________________________________________________________\n",
      "block5_pool (MaxPooling2D)   (None, 7, 7, 512)         0         \n",
      "_________________________________________________________________\n",
      "flatten (Flatten)            (None, 25088)             0         \n",
      "_________________________________________________________________\n",
      "fc1 (Dense)                  (None, 4096)              102764544 \n",
      "_________________________________________________________________\n",
      "fc2 (Dense)                  (None, 4096)              16781312  \n",
      "_________________________________________________________________\n",
      "predictions (Dense)          (None, 1000)              4097000   \n",
      "=================================================================\n",
      "Total params: 143,667,240\n",
      "Trainable params: 143,667,240\n",
      "Non-trainable params: 0\n",
      "_________________________________________________________________\n"
     ]
    }
   ],
   "source": [
    "model = VGG19(\n",
    "    include_top=True,\n",
    "    weights=\"imagenet\",\n",
    "    input_tensor=img_input,\n",
    "    input_shape=None,\n",
    "    pooling=None,\n",
    "    classes=1000,\n",
    "    classifier_activation=\"softmax\",\n",
    ")\n",
    "model.summary()"
   ]
  },
  {
   "cell_type": "code",
   "execution_count": 12,
   "metadata": {},
   "outputs": [
    {
     "name": "stdout",
     "output_type": "stream",
     "text": [
      "Model: \"model\"\n",
      "_________________________________________________________________\n",
      "Layer (type)                 Output Shape              Param #   \n",
      "=================================================================\n",
      "input_1 (InputLayer)         [(None, 224, 224, 3)]     0         \n",
      "_________________________________________________________________\n",
      "block1_conv1 (Conv2D)        (None, 224, 224, 64)      1792      \n",
      "_________________________________________________________________\n",
      "block1_conv2 (Conv2D)        (None, 224, 224, 64)      36928     \n",
      "_________________________________________________________________\n",
      "block1_pool (MaxPooling2D)   (None, 112, 112, 64)      0         \n",
      "_________________________________________________________________\n",
      "block2_conv1 (Conv2D)        (None, 112, 112, 128)     73856     \n",
      "_________________________________________________________________\n",
      "block2_conv2 (Conv2D)        (None, 112, 112, 128)     147584    \n",
      "_________________________________________________________________\n",
      "block2_pool (MaxPooling2D)   (None, 56, 56, 128)       0         \n",
      "_________________________________________________________________\n",
      "block3_conv1 (Conv2D)        (None, 56, 56, 256)       295168    \n",
      "_________________________________________________________________\n",
      "block3_conv2 (Conv2D)        (None, 56, 56, 256)       590080    \n",
      "_________________________________________________________________\n",
      "block3_conv3 (Conv2D)        (None, 56, 56, 256)       590080    \n",
      "_________________________________________________________________\n",
      "block3_conv4 (Conv2D)        (None, 56, 56, 256)       590080    \n",
      "_________________________________________________________________\n",
      "block3_pool (MaxPooling2D)   (None, 28, 28, 256)       0         \n",
      "_________________________________________________________________\n",
      "block4_conv1 (Conv2D)        (None, 28, 28, 512)       1180160   \n",
      "_________________________________________________________________\n",
      "block4_conv2 (Conv2D)        (None, 28, 28, 512)       2359808   \n",
      "_________________________________________________________________\n",
      "block4_conv3 (Conv2D)        (None, 28, 28, 512)       2359808   \n",
      "_________________________________________________________________\n",
      "block4_conv4 (Conv2D)        (None, 28, 28, 512)       2359808   \n",
      "_________________________________________________________________\n",
      "block4_pool (MaxPooling2D)   (None, 14, 14, 512)       0         \n",
      "_________________________________________________________________\n",
      "block5_conv1 (Conv2D)        (None, 14, 14, 512)       2359808   \n",
      "_________________________________________________________________\n",
      "block5_conv2 (Conv2D)        (None, 14, 14, 512)       2359808   \n",
      "_________________________________________________________________\n",
      "block5_conv3 (Conv2D)        (None, 14, 14, 512)       2359808   \n",
      "_________________________________________________________________\n",
      "block5_conv4 (Conv2D)        (None, 14, 14, 512)       2359808   \n",
      "_________________________________________________________________\n",
      "block5_pool (MaxPooling2D)   (None, 7, 7, 512)         0         \n",
      "_________________________________________________________________\n",
      "flatten (Flatten)            (None, 25088)             0         \n",
      "_________________________________________________________________\n",
      "fc1 (Dense)                  (None, 4096)              102764544 \n",
      "_________________________________________________________________\n",
      "fc2 (Dense)                  (None, 4096)              16781312  \n",
      "_________________________________________________________________\n",
      "output (Dense)               (None, 1)                 4097      \n",
      "=================================================================\n",
      "Total params: 139,574,337\n",
      "Trainable params: 4,097\n",
      "Non-trainable params: 139,570,240\n",
      "_________________________________________________________________\n"
     ]
    }
   ],
   "source": [
    "last_layer = model.get_layer('fc2').output\n",
    "out = Dense(1, activation='sigmoid', name='output')(last_layer)  ## 2 classes\n",
    "model = Model(img_input, out)\n",
    "\n",
    "for layer in model.layers[:-1]:\n",
    "\tlayer.trainable = False\n",
    "\n",
    "model.summary()"
   ]
  },
  {
   "cell_type": "code",
   "execution_count": 13,
   "metadata": {},
   "outputs": [],
   "source": [
    "model.compile(loss='binary_crossentropy',\n",
    "              optimizer='adam',\n",
    "              metrics=['acc'])"
   ]
  },
  {
   "cell_type": "code",
   "execution_count": 16,
   "metadata": {},
   "outputs": [],
   "source": [
    "from tensorflow.keras.callbacks import EarlyStopping, ModelCheckpoint\n",
    "my_callbacks = [\n",
    "    EarlyStopping(monitor=\"val_loss\", patience=10, restore_best_weights=True),\n",
    "    ModelCheckpoint(filepath='C://Users//Deep.ai//Downloads//1626498001264_TAA_JULY_114//TAA_JULY_114//vgg19_model.h5', save_best_only=True),\n",
    "]"
   ]
  },
  {
   "cell_type": "code",
   "execution_count": 17,
   "metadata": {},
   "outputs": [
    {
     "name": "stdout",
     "output_type": "stream",
     "text": [
      "Epoch 1/10\n",
      "50/50 [==============================] - 96s 2s/step - loss: 0.7741 - acc: 0.4748 - val_loss: 1.1218 - val_acc: 0.5000\n",
      "Epoch 2/10\n",
      "50/50 [==============================] - 98s 2s/step - loss: 0.7977 - acc: 0.5535 - val_loss: 0.5869 - val_acc: 0.8200\n",
      "Epoch 3/10\n",
      "50/50 [==============================] - 98s 2s/step - loss: 0.6376 - acc: 0.6358 - val_loss: 0.6186 - val_acc: 0.5800\n",
      "Epoch 4/10\n",
      "50/50 [==============================] - 98s 2s/step - loss: 0.5960 - acc: 0.6892 - val_loss: 0.6453 - val_acc: 0.5900\n",
      "Epoch 5/10\n",
      "50/50 [==============================] - 97s 2s/step - loss: 0.6330 - acc: 0.6344 - val_loss: 0.5268 - val_acc: 0.8200\n",
      "Epoch 6/10\n",
      "50/50 [==============================] - 98s 2s/step - loss: 0.5564 - acc: 0.7263 - val_loss: 0.5180 - val_acc: 0.7900\n",
      "Epoch 7/10\n",
      "50/50 [==============================] - 93s 2s/step - loss: 0.5176 - acc: 0.7860 - val_loss: 0.5607 - val_acc: 0.7000\n",
      "Epoch 8/10\n",
      "50/50 [==============================] - 90s 2s/step - loss: 0.5299 - acc: 0.7193 - val_loss: 0.5019 - val_acc: 0.8100\n",
      "Epoch 9/10\n",
      "50/50 [==============================] - 92s 2s/step - loss: 0.4715 - acc: 0.8045 - val_loss: 0.5162 - val_acc: 0.7400\n",
      "Epoch 10/10\n",
      "50/50 [==============================] - 101s 2s/step - loss: 0.4929 - acc: 0.7703 - val_loss: 0.5350 - val_acc: 0.7600\n"
     ]
    }
   ],
   "source": [
    "history = model.fit(train_X, train_y,\n",
    "                              batch_size=10,\n",
    "                              epochs=10, \n",
    "                              validation_data=(val_X, val_y),\n",
    "                              callbacks=my_callbacks)"
   ]
  },
  {
   "cell_type": "code",
   "execution_count": 18,
   "metadata": {},
   "outputs": [
    {
     "data": {
      "image/png": "[encoded data removed]",
      "text/plain": [
       "<Figure size 432x288 with 1 Axes>"
      ]
     },
     "metadata": {
      "needs_background": "light"
     },
     "output_type": "display_data"
    },
    {
     "data": {
      "image/png": "[encoded data removed]",
      "text/plain": [
       "<Figure size 432x288 with 1 Axes>"
      ]
     },
     "metadata": {
      "needs_background": "light"
     },
     "output_type": "display_data"
    }
   ],
   "source": [
    "import matplotlib.pyplot as plt\n",
    "\n",
    "acc = history.history['acc']\n",
    "val_acc = history.history['val_acc']\n",
    "loss = history.history['loss']\n",
    "val_loss = history.history['val_loss']\n",
    "\n",
    "epochs = range(1, len(acc) + 1)\n",
    "\n",
    "plt.plot(epochs, acc, 'bo', label='Training acc')\n",
    "plt.plot(epochs, val_acc, 'b', label='Validation acc')\n",
    "plt.title('Training and validation accuracy')\n",
    "plt.legend()\n",
    "\n",
    "plt.figure()\n",
    "\n",
    "plt.plot(epochs, loss, 'bo', label='Training loss')\n",
    "plt.plot(epochs, val_loss, 'b', label='Validation loss')\n",
    "plt.title('Training and validation loss')\n",
    "plt.legend()\n",
    "\n",
    "plt.show()"
   ]
  },
  {
   "cell_type": "code",
   "execution_count": 1,
   "metadata": {},
   "outputs": [
    {
     "ename": "NameError",
     "evalue": "name 'model' is not defined",
     "output_type": "error",
     "traceback": [
      "\u001b[1;31m---------------------------------------------------------------------------\u001b[0m",
      "\u001b[1;31mNameError\u001b[0m                                 Traceback (most recent call last)",
      "\u001b[1;32m<ipython-input-1-25317736d714>\u001b[0m in \u001b[0;36m<module>\u001b[1;34m\u001b[0m\n\u001b[0;32m      1\u001b[0m \u001b[1;32mfrom\u001b[0m \u001b[0msklearn\u001b[0m\u001b[1;33m.\u001b[0m\u001b[0mmetrics\u001b[0m \u001b[1;32mimport\u001b[0m \u001b[0maccuracy_score\u001b[0m\u001b[1;33m\u001b[0m\u001b[1;33m\u001b[0m\u001b[0m\n\u001b[1;32m----> 2\u001b[1;33m \u001b[0mmodel\u001b[0m\u001b[1;33m.\u001b[0m\u001b[0mload_weights\u001b[0m\u001b[1;33m(\u001b[0m\u001b[1;34m'C://Users//Deep.ai//Downloads//1626498001264_TAA_JULY_114//TAA_JULY_114//vgg19_model.h5'\u001b[0m\u001b[1;33m)\u001b[0m\u001b[1;33m\u001b[0m\u001b[1;33m\u001b[0m\u001b[0m\n\u001b[0m\u001b[0;32m      3\u001b[0m \u001b[1;31m## Test Accuracy\u001b[0m\u001b[1;33m\u001b[0m\u001b[1;33m\u001b[0m\u001b[1;33m\u001b[0m\u001b[0m\n\u001b[0;32m      4\u001b[0m \u001b[0mpredictions\u001b[0m \u001b[1;33m=\u001b[0m \u001b[0mmodel\u001b[0m\u001b[1;33m.\u001b[0m\u001b[0mpredict\u001b[0m\u001b[1;33m(\u001b[0m\u001b[0mtest_X\u001b[0m\u001b[1;33m)\u001b[0m\u001b[1;33m\u001b[0m\u001b[1;33m\u001b[0m\u001b[0m\n\u001b[0;32m      5\u001b[0m \u001b[0mypred\u001b[0m \u001b[1;33m=\u001b[0m \u001b[0mpredictions\u001b[0m \u001b[1;33m>\u001b[0m \u001b[1;36m0.5\u001b[0m\u001b[1;33m\u001b[0m\u001b[1;33m\u001b[0m\u001b[0m\n",
      "\u001b[1;31mNameError\u001b[0m: name 'model' is not defined"
     ]
    }
   ],
   "source": [
    "from sklearn.metrics import accuracy_score\n",
    "model.load_weights('C://Users//Deep.ai//Downloads//1626498001264_TAA_JULY_114//TAA_JULY_114//vgg19_model.h5')\n",
    "## Test Accuracy\n",
    "predictions = model.predict(test_X)\n",
    "ypred = predictions > 0.5\n"
   ]
  },
  {
   "cell_type": "code",
   "execution_count": null,
   "metadata": {},
   "outputs": [],
   "source": [
    "from sklearn.metrics import accuracy_score\n",
    "\n",
    "## Test Accuracy\n",
    "predictions = model.predict(test_X)\n",
    "ypred = predictions > 0.5\n",
    "test_acc = accuracy_score(test_y, ypred)\n",
    "\n",
    "from sklearn.metrics import precision_recall_fscore_support, roc_auc_score\n",
    "\n",
    "precision, recall, f1score, _ = precision_recall_fscore_support(test_y, ypred, average='binary')\n",
    "\n",
    "auc = roc_auc_score(test_y, ypred)\n",
    "\n",
    "print(\"Train Accuracy:\\t\", acc[-1])\n",
    "print(\"Val Accuracy:\\t\", val_acc[-1])\n",
    "print(\"Test Accuracy:\\t\", test_acc)\n",
    "print(\"Precision:\\t\", precision)\n",
    "print(\"Recall:\\t\\t\", recall)\n",
    "print(\"F1 Score:\\t\", f1score)\n",
    "print(\"AUC:\\t\\t\", auc)"
   ]
  },
  {
   "cell_type": "markdown",
   "metadata": {},
   "source": [
    "# Fine Tuning "
   ]
  },
  {
   "cell_type": "code",
   "execution_count": 17,
   "metadata": {},
   "outputs": [
    {
     "name": "stdout",
     "output_type": "stream",
     "text": [
      "Model: \"model\"\n",
      "_________________________________________________________________\n",
      "Layer (type)                 Output Shape              Param #   \n",
      "=================================================================\n",
      "input_1 (InputLayer)         [(None, 224, 224, 3)]     0         \n",
      "_________________________________________________________________\n",
      "block1_conv1 (Conv2D)        (None, 224, 224, 64)      1792      \n",
      "_________________________________________________________________\n",
      "block1_conv2 (Conv2D)        (None, 224, 224, 64)      36928     \n",
      "_________________________________________________________________\n",
      "block1_pool (MaxPooling2D)   (None, 112, 112, 64)      0         \n",
      "_________________________________________________________________\n",
      "block2_conv1 (Conv2D)        (None, 112, 112, 128)     73856     \n",
      "_________________________________________________________________\n",
      "block2_conv2 (Conv2D)        (None, 112, 112, 128)     147584    \n",
      "_________________________________________________________________\n",
      "block2_pool (MaxPooling2D)   (None, 56, 56, 128)       0         \n",
      "_________________________________________________________________\n",
      "block3_conv1 (Conv2D)        (None, 56, 56, 256)       295168    \n",
      "_________________________________________________________________\n",
      "block3_conv2 (Conv2D)        (None, 56, 56, 256)       590080    \n",
      "_________________________________________________________________\n",
      "block3_conv3 (Conv2D)        (None, 56, 56, 256)       590080    \n",
      "_________________________________________________________________\n",
      "block3_conv4 (Conv2D)        (None, 56, 56, 256)       590080    \n",
      "_________________________________________________________________\n",
      "block3_pool (MaxPooling2D)   (None, 28, 28, 256)       0         \n",
      "_________________________________________________________________\n",
      "block4_conv1 (Conv2D)        (None, 28, 28, 512)       1180160   \n",
      "_________________________________________________________________\n",
      "block4_conv2 (Conv2D)        (None, 28, 28, 512)       2359808   \n",
      "_________________________________________________________________\n",
      "block4_conv3 (Conv2D)        (None, 28, 28, 512)       2359808   \n",
      "_________________________________________________________________\n",
      "block4_conv4 (Conv2D)        (None, 28, 28, 512)       2359808   \n",
      "_________________________________________________________________\n",
      "block4_pool (MaxPooling2D)   (None, 14, 14, 512)       0         \n",
      "_________________________________________________________________\n",
      "block5_conv1 (Conv2D)        (None, 14, 14, 512)       2359808   \n",
      "_________________________________________________________________\n",
      "block5_conv2 (Conv2D)        (None, 14, 14, 512)       2359808   \n",
      "_________________________________________________________________\n",
      "block5_conv3 (Conv2D)        (None, 14, 14, 512)       2359808   \n",
      "_________________________________________________________________\n",
      "block5_conv4 (Conv2D)        (None, 14, 14, 512)       2359808   \n",
      "_________________________________________________________________\n",
      "block5_pool (MaxPooling2D)   (None, 7, 7, 512)         0         \n",
      "_________________________________________________________________\n",
      "flatten (Flatten)            (None, 25088)             0         \n",
      "_________________________________________________________________\n",
      "fc1 (Dense)                  (None, 128)               3211392   \n",
      "_________________________________________________________________\n",
      "fc2 (Dense)                  (None, 64)                8256      \n",
      "_________________________________________________________________\n",
      "output (Dense)               (None, 1)                 65        \n",
      "=================================================================\n",
      "Total params: 23,244,097\n",
      "Trainable params: 3,219,713\n",
      "Non-trainable params: 20,024,384\n",
      "_________________________________________________________________\n"
     ]
    }
   ],
   "source": [
    "\n",
    "from tensorflow.keras.applications import VGG19\n",
    "from tensorflow.keras.layers import Dense, Input, Flatten\n",
    "from tensorflow.keras import Model\n",
    "\n",
    "last_layer = model.get_layer('block5_pool').output\n",
    "x= Flatten(name='flatten')(last_layer)\n",
    "x = Dense(128, activation='relu', name='fc1')(x)\n",
    "x = Dense(64, activation='relu', name='fc2')(x)\n",
    "out = Dense(1, activation='sigmoid', name='output')(x)  ## 2 classes\n",
    "model = Model(img_input, out)\n",
    "\n",
    "for layer in model.layers[:-3]:\n",
    "\tlayer.trainable = False\n",
    "\n",
    "model.summary()"
   ]
  },
  {
   "cell_type": "code",
   "execution_count": 18,
   "metadata": {},
   "outputs": [],
   "source": [
    "model.compile(loss='binary_crossentropy',\n",
    "              optimizer='adam',\n",
    "              metrics=['acc'])"
   ]
  },
  {
   "cell_type": "code",
   "execution_count": 17,
   "metadata": {},
   "outputs": [],
   "source": [
    "from tensorflow.keras.callbacks import EarlyStopping, ModelCheckpoint\n",
    "my_callbacks = [\n",
    "    EarlyStopping(monitor=\"val_loss\", patience=5, restore_best_weights=True),\n",
    "    ModelCheckpoint(filepath='C://Users//Deep.ai//Downloads//1626498001264_TAA_JULY_114//TAA_JULY_114//tuned_vgg19_model.h5', save_best_only=True),\n",
    "]"
   ]
  },
  {
   "cell_type": "code",
   "execution_count": 18,
   "metadata": {},
   "outputs": [
    {
     "name": "stdout",
     "output_type": "stream",
     "text": [
      "Epoch 1/70\n",
      "25/25 [==============================] - 95s 4s/step - loss: 1.3185 - acc: 0.5914 - val_loss: 0.7271 - val_acc: 0.5900\n",
      "Epoch 2/70\n",
      "25/25 [==============================] - 93s 4s/step - loss: 0.3304 - acc: 0.8236 - val_loss: 0.3976 - val_acc: 0.8300\n",
      "Epoch 3/70\n",
      "25/25 [==============================] - 93s 4s/step - loss: 0.2045 - acc: 0.9163 - val_loss: 0.3750 - val_acc: 0.8600\n",
      "Epoch 4/70\n",
      "25/25 [==============================] - 92s 4s/step - loss: 0.1636 - acc: 0.9334 - val_loss: 0.4811 - val_acc: 0.7900\n",
      "Epoch 5/70\n",
      "25/25 [==============================] - 94s 4s/step - loss: 0.0747 - acc: 0.9885 - val_loss: 0.3885 - val_acc: 0.8200\n",
      "Epoch 6/70\n",
      "25/25 [==============================] - 93s 4s/step - loss: 0.0552 - acc: 0.9945 - val_loss: 0.4380 - val_acc: 0.8300\n",
      "Epoch 7/70\n",
      "25/25 [==============================] - 93s 4s/step - loss: 0.0370 - acc: 1.0000 - val_loss: 0.3558 - val_acc: 0.8800\n",
      "Epoch 8/70\n",
      "25/25 [==============================] - 94s 4s/step - loss: 0.0230 - acc: 1.0000 - val_loss: 0.3351 - val_acc: 0.8800\n",
      "Epoch 9/70\n",
      "25/25 [==============================] - 93s 4s/step - loss: 0.0156 - acc: 1.0000 - val_loss: 0.3695 - val_acc: 0.8800\n",
      "Epoch 10/70\n",
      "25/25 [==============================] - 91s 4s/step - loss: 0.0134 - acc: 1.0000 - val_loss: 0.3611 - val_acc: 0.8800\n",
      "Epoch 11/70\n",
      "25/25 [==============================] - 87s 4s/step - loss: 0.0092 - acc: 1.0000 - val_loss: 0.3673 - val_acc: 0.8900\n",
      "Epoch 12/70\n",
      "25/25 [==============================] - 87s 4s/step - loss: 0.0072 - acc: 1.0000 - val_loss: 0.3665 - val_acc: 0.8600\n",
      "Epoch 13/70\n",
      "25/25 [==============================] - 87s 4s/step - loss: 0.0064 - acc: 1.0000 - val_loss: 0.4092 - val_acc: 0.8900\n"
     ]
    }
   ],
   "source": [
    "history = model.fit(train_X, train_y,\n",
    "                              batch_size=20,\n",
    "                              epochs=70, \n",
    "                              validation_data=(val_X, val_y),\n",
    "                              callbacks=my_callbacks)"
   ]
  },
  {
   "cell_type": "code",
   "execution_count": 19,
   "metadata": {},
   "outputs": [
    {
     "data": {
      "image/png": "[encoded data removed]",
      "text/plain": [
       "<Figure size 432x288 with 1 Axes>"
      ]
     },
     "metadata": {
      "needs_background": "light"
     },
     "output_type": "display_data"
    },
    {
     "data": {
      "image/png": "[encoded data removed]",
      "text/plain": [
       "<Figure size 432x288 with 1 Axes>"
      ]
     },
     "metadata": {
      "needs_background": "light"
     },
     "output_type": "display_data"
    }
   ],
   "source": [
    "import matplotlib.pyplot as plt\n",
    "\n",
    "acc = history.history['acc']\n",
    "val_acc = history.history['val_acc']\n",
    "loss = history.history['loss']\n",
    "val_loss = history.history['val_loss']\n",
    "\n",
    "epochs = range(1, len(acc) + 1)\n",
    "\n",
    "plt.plot(epochs, acc, 'bo', label='Training acc')\n",
    "plt.plot(epochs, val_acc, 'b', label='Validation acc')\n",
    "plt.title('Training and validation accuracy')\n",
    "plt.legend()\n",
    "\n",
    "plt.figure()\n",
    "\n",
    "plt.plot(epochs, loss, 'bo', label='Training loss')\n",
    "plt.plot(epochs, val_loss, 'b', label='Validation loss')\n",
    "plt.title('Training and validation loss')\n",
    "plt.legend()\n",
    "\n",
    "plt.show()"
   ]
  },
  {
   "cell_type": "code",
   "execution_count": 1,
   "metadata": {},
   "outputs": [
    {
     "ename": "NameError",
     "evalue": "name 'model' is not defined",
     "output_type": "error",
     "traceback": [
      "\u001b[1;31m---------------------------------------------------------------------------\u001b[0m",
      "\u001b[1;31mNameError\u001b[0m                                 Traceback (most recent call last)",
      "\u001b[1;32m<ipython-input-1-262feb64531a>\u001b[0m in \u001b[0;36m<module>\u001b[1;34m\u001b[0m\n\u001b[0;32m      1\u001b[0m \u001b[1;32mfrom\u001b[0m \u001b[0msklearn\u001b[0m\u001b[1;33m.\u001b[0m\u001b[0mmetrics\u001b[0m \u001b[1;32mimport\u001b[0m \u001b[0maccuracy_score\u001b[0m\u001b[1;33m\u001b[0m\u001b[1;33m\u001b[0m\u001b[0m\n\u001b[1;32m----> 2\u001b[1;33m \u001b[0mmodel\u001b[0m\u001b[1;33m.\u001b[0m\u001b[0mload_weights\u001b[0m\u001b[1;33m(\u001b[0m\u001b[1;34m'C://Users//Deep.ai//Downloads//1626498001264_TAA_JULY_114//TAA_JULY_114//tuned_vgg19_model.h5'\u001b[0m\u001b[1;33m)\u001b[0m\u001b[1;33m\u001b[0m\u001b[1;33m\u001b[0m\u001b[0m\n\u001b[0m\u001b[0;32m      3\u001b[0m \u001b[1;31m## Test Accuracy\u001b[0m\u001b[1;33m\u001b[0m\u001b[1;33m\u001b[0m\u001b[1;33m\u001b[0m\u001b[0m\n\u001b[0;32m      4\u001b[0m \u001b[0mpredictions\u001b[0m \u001b[1;33m=\u001b[0m \u001b[0mmodel\u001b[0m\u001b[1;33m.\u001b[0m\u001b[0mpredict\u001b[0m\u001b[1;33m(\u001b[0m\u001b[0mtest_X\u001b[0m\u001b[1;33m)\u001b[0m\u001b[1;33m\u001b[0m\u001b[1;33m\u001b[0m\u001b[0m\n\u001b[0;32m      5\u001b[0m \u001b[0mypred\u001b[0m \u001b[1;33m=\u001b[0m \u001b[0mpredictions\u001b[0m \u001b[1;33m>\u001b[0m \u001b[1;36m0.5\u001b[0m\u001b[1;33m\u001b[0m\u001b[1;33m\u001b[0m\u001b[0m\n",
      "\u001b[1;31mNameError\u001b[0m: name 'model' is not defined"
     ]
    }
   ],
   "source": [
    "from sklearn.metrics import accuracy_score\n",
    "model.load_weights('C://Users//Deep.ai//Downloads//1626498001264_TAA_JULY_114//TAA_JULY_114//tuned_vgg19_model.h5')\n",
    "## Test Accuracy\n",
    "predictions = model.predict(test_X)\n",
    "ypred = predictions > 0.5\n"
   ]
  },
  {
   "cell_type": "code",
   "execution_count": null,
   "metadata": {},
   "outputs": [],
   "source": [
    "test_acc = accuracy_score(test_y, ypred)\n",
    "\n",
    "from sklearn.metrics import precision_recall_fscore_support, roc_auc_score\n",
    "\n",
    "precision, recall, f1score, _ = precision_recall_fscore_support(test_y, ypred, average='binary')\n",
    "\n",
    "auc = roc_auc_score(test_y, ypred)\n",
    "\n",
    "print(\"Train Accuracy:\\t\", acc[-1])\n",
    "print(\"Val Accuracy:\\t\", val_acc[-1])\n",
    "print(\"Test Accuracy:\\t\", test_acc)\n",
    "print(\"Precision:\\t\", precision)\n",
    "print(\"Recall:\\t\\t\", recall)\n",
    "print(\"F1 Score:\\t\", f1score)\n",
    "print(\"AUC:\\t\\t\", auc)"
   ]
  }
 ],
 "metadata": {
  "kernelspec": {
   "display_name": "Python 3",
   "language": "python",
   "name": "python3"
  },
  "language_info": {
   "codemirror_mode": {
    "name": "ipython",
    "version": 3
   },
   "file_extension": ".py",
   "mimetype": "text/x-python",
   "name": "python",
   "nbconvert_exporter": "python",
   "pygments_lexer": "ipython3",
   "version": "3.8.5"
  }
 },
 "nbformat": 4,
 "nbformat_minor": 4
}
